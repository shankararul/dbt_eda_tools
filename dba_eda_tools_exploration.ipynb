{
 "cells": [
  {
   "cell_type": "code",
   "execution_count": 45,
   "metadata": {},
   "outputs": [],
   "source": [
    "import sqlglot"
   ]
  },
  {
   "cell_type": "code",
   "execution_count": 46,
   "metadata": {},
   "outputs": [
    {
     "name": "stdout",
     "output_type": "stream",
     "text": [
      "['SELECT *, CASE WHEN str_length < 4 THEN TRUE ELSE FALSE END AS is_short_string FROM dbt_db.dbt_schema.data_generator']\n"
     ]
    }
   ],
   "source": [
    "snow_sql = '''\n",
    "\n",
    "SELECT\n",
    "    *\n",
    "    , IFF(str_length<4,True,False)   AS is_short_string\n",
    "FROM dbt_db.dbt_schema.data_generator\n",
    "\n",
    "'''\n",
    "\n",
    "# Transpile to DuckDB SQL\n",
    "duckdb_sql = sqlglot.transpile(snow_sql, read=\"snowflake\", write=\"duckdb\")\n",
    "print(duckdb_sql)"
   ]
  },
  {
   "cell_type": "code",
   "execution_count": 85,
   "metadata": {},
   "outputs": [],
   "source": [
    "from sqlglot import parse_one, exp, transpile\n",
    "import os\n",
    "import shutil\n",
    "\n",
    "# Define the source and target dialects\n",
    "source_dialect = \"snowflake\"\n",
    "target_dialect = \"duckdb\"\n",
    "\n",
    "# Directory containing your SQL files\n",
    "sql_directory = os.getcwd()+\"\\\\target\\\\compiled\\\\dbt_eda_tools\\\\examples\\\\\"\n",
    "duckdb_directory = os.getcwd()+'\\\\examples\\\\transpiled_duck\\\\'\n",
    "try:\n",
    "    shutil.rmtree(duckdb_directory)\n",
    "except:\n",
    "    pass\n",
    "if not os.path.exists(duckdb_directory):\n",
    "    os.makedirs(duckdb_directory)\n",
    "\n",
    "for dirpath, _, filenames in os.walk(sql_directory):\n",
    "    for filename in filenames:\n",
    "        if filename.endswith(\".sql\") and not filename.startswith('assert_') and not dirpath.endswith(\"transpiled_duck\"):\n",
    "            file_path = os.path.join(dirpath, filename)\n",
    "            with open(file_path, 'r') as file:\n",
    "                sql = file.read()\n",
    "                new_file_name = filename.replace(\".sql\", \"_duckdb.sql\")\n",
    "                transpiled_sql = transpile(sql, read=source_dialect, write=target_dialect, pretty=True)[0]\n",
    "                for table in parse_one(transpiled_sql).find_all(exp.Table):\n",
    "                    if table.db and table.name and table.catalog:\n",
    "                        transpiled_sql = transpiled_sql\\\n",
    "                                            .replace(table.name, \"{{ref('\"+table.name+\"_duckdb')}}\")\\\n",
    "                                            .replace(table.db+\".\",\"\")\\\n",
    "                                            .replace(table.catalog+\".\",\"\")\n",
    "\n",
    "                with open(os.path.join(duckdb_directory, new_file_name), 'w') as file:\n",
    "                    file.write(transpiled_sql)\n"
   ]
  },
  {
   "cell_type": "code",
   "execution_count": 48,
   "metadata": {},
   "outputs": [
    {
     "name": "stdout",
     "output_type": "stream",
     "text": [
      "y\n"
     ]
    }
   ],
   "source": [
    "from sqlglot.optimizer.scope import build_scope\n",
    "\n",
    "ast = parse_one(\"\"\"\n",
    "WITH x AS (\n",
    "  SELECT a FROM y\n",
    ")\n",
    "SELECT a FROM x\n",
    "\"\"\")\n",
    "\n",
    "root = build_scope(ast)\n",
    "# for scope in root.traverse():\n",
    "#     print(scope)\n",
    "\n",
    "tables = [\n",
    "    alias\n",
    "\n",
    "    # Traverse the Scope tree, not the AST\n",
    "    for scope in root.traverse()\n",
    "\n",
    "    # `selected_sources` contains sources that have been selected in this scope, e.g. in a FROM or JOIN clause.\n",
    "    # `alias` is the name of this source in this particular scope.\n",
    "    # `node` is the AST node instance\n",
    "    # if the selected source is a subquery (including common table expressions),\n",
    "    #     then `source` will be the Scope instance for that subquery.\n",
    "    # if the selected source is a table,\n",
    "    #     then `source` will be a Table instance.\n",
    "    for alias, (node, source) in scope.selected_sources.items()\n",
    "    if isinstance(source, exp.Table)\n",
    "]\n",
    "\n",
    "for table in tables:\n",
    "    print(table)"
   ]
  },
  {
   "cell_type": "code",
   "execution_count": null,
   "metadata": {},
   "outputs": [],
   "source": []
  }
 ],
 "metadata": {
  "kernelspec": {
   "display_name": ".venv",
   "language": "python",
   "name": "python3"
  },
  "language_info": {
   "codemirror_mode": {
    "name": "ipython",
    "version": 3
   },
   "file_extension": ".py",
   "mimetype": "text/x-python",
   "name": "python",
   "nbconvert_exporter": "python",
   "pygments_lexer": "ipython3",
   "version": "3.10.0"
  }
 },
 "nbformat": 4,
 "nbformat_minor": 2
}
